{
 "cells": [
  {
   "cell_type": "code",
   "execution_count": 1,
   "metadata": {},
   "outputs": [],
   "source": [
    "import tkinter as tk\n",
    "\n",
    "root = tk.Tk()\n",
    "label = tk.Label(root)\n",
    "listbox = tk.Listbox(root)\n",
    "label.pack(side=\"bottom\", fill=\"x\")\n",
    "listbox.pack(side=\"top\", fill=\"both\", expand=True)\n",
    "\n",
    "listbox.insert(\"end\", \"one\", \"two\", \"three\", \"four\", \"five\")\n",
    "\n",
    "def callback(event):\n",
    "    selection = event.widget.curselection()\n",
    "    if selection:\n",
    "        index = selection[0]\n",
    "        data = event.widget.get(index)\n",
    "        label.configure(text=data)\n",
    "    else:\n",
    "        label.configure(text=\"\")\n",
    "\n",
    "listbox.bind(\"<<ListboxSelect>>\", callback)\n",
    "\n",
    "root.mainloop()"
   ]
  },
  {
   "cell_type": "code",
   "execution_count": null,
   "metadata": {},
   "outputs": [],
   "source": []
  }
 ],
 "metadata": {
  "kernelspec": {
   "display_name": "Python 3",
   "language": "python",
   "name": "python3"
  },
  "language_info": {
   "codemirror_mode": {
    "name": "ipython",
    "version": 3
   },
   "file_extension": ".py",
   "mimetype": "text/x-python",
   "name": "python",
   "nbconvert_exporter": "python",
   "pygments_lexer": "ipython3",
   "version": "3.8.5"
  }
 },
 "nbformat": 4,
 "nbformat_minor": 4
}
